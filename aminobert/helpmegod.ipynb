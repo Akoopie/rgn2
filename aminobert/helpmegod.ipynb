{
 "cells": [
  {
   "cell_type": "code",
   "execution_count": 1,
   "metadata": {},
   "outputs": [
    {
     "ename": "ModuleNotFoundError",
     "evalue": "No module named 'training_data_processing_utils'",
     "output_type": "error",
     "traceback": [
      "\u001b[1;31m---------------------------------------------------------------------------\u001b[0m",
      "\u001b[1;31mModuleNotFoundError\u001b[0m                       Traceback (most recent call last)",
      "Cell \u001b[1;32mIn[1], line 1\u001b[0m\n\u001b[1;32m----> 1\u001b[0m \u001b[39mimport\u001b[39;00m \u001b[39mtraining_data_processing_utils\u001b[39;00m \u001b[39mas\u001b[39;00m \u001b[39mtdpu\u001b[39;00m\n",
      "\u001b[1;31mModuleNotFoundError\u001b[0m: No module named 'training_data_processing_utils'"
     ]
    }
   ],
   "source": [
    "import training_data_processing_utils as tdpu"
   ]
  }
 ],
 "metadata": {
  "kernelspec": {
   "display_name": "test-torch",
   "language": "python",
   "name": "python3"
  },
  "language_info": {
   "codemirror_mode": {
    "name": "ipython",
    "version": 3
   },
   "file_extension": ".py",
   "mimetype": "text/x-python",
   "name": "python",
   "nbconvert_exporter": "python",
   "pygments_lexer": "ipython3",
   "version": "3.10.8"
  },
  "orig_nbformat": 4,
  "vscode": {
   "interpreter": {
    "hash": "b49c331b8e998656746804469462533d8e71512652c20298c59f967c5c879481"
   }
  }
 },
 "nbformat": 4,
 "nbformat_minor": 2
}
