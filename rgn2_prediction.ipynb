{
  "cells": [
    {
      "cell_type": "code",
      "source": [
        "import os\n",
        "import subprocess\n",
        "from IPython.utils import io\n",
        "from IPython import get_ipython"
      ],
      "metadata": {
        "id": "vrkqR5FXRS8B"
      },
      "id": "vrkqR5FXRS8B",
      "execution_count": null,
      "outputs": []
    },
    {
      "cell_type": "code",
      "source": [
        "#@title Download RGN2\n",
        "\n",
        "#@markdown Please execute this cell by pressing the *Play* button on\n",
        "#@markdown the left.\n",
        "#@markdown Kernel will restart automatically after execution.\n",
        "\n",
        "import os\n",
        "import sys\n",
        "import subprocess\n",
        "from IPython.utils import io\n",
        "\n",
        "WORKDIR = '/content/rgn2'\n",
        "GIT_REPO = 'https://github.com/aqlaboratory/rgn2'\n",
        "REQUIREMENTS = os.path.join(WORKDIR, 'requirements.txt')\n",
        "RGN2_PARAM_SOURCE_URL = 'https://huggingface.co/christinafl/rgn2'\n",
        "RGN2_PARAMS_DIR = os.path.join(WORKDIR, 'resources')\n",
        "REFINER_DIR = os.path.join(WORKDIR, 'ter2pdb')\n",
        "REFINER_PATH = os.path.join(REFINER_DIR, 'ModRefiner-l.zip')\n",
        "REFINER_URL = 'https://zhanggroup.org/ModRefiner/ModRefiner-l.zip'\n",
        "\n",
        "try:\n",
        "  with io.capture_output() as captured:\n",
        "    %cd '/content'\n",
        "\n",
        "    %shell rm -rf {WORKDIR}\n",
        "    %shell git clone {GIT_REPO} {WORKDIR}\n",
        "\n",
        "    # Install the required versions of all dependencies.\n",
        "    %shell pip install -r {REQUIREMENTS}\n",
        "\n",
        "    %shell git lfs clone \"{RGN2_PARAM_SOURCE_URL}\" \"{RGN2_PARAMS_DIR}\"\n",
        "\n",
        "    %shell wget -O {REFINER_PATH} {REFINER_URL}\n",
        "    %shell unzip -o {REFINER_PATH} -d {REFINER_DIR}\n",
        "    %shell rm {REFINER_PATH}\n",
        "except subprocess.CalledProcessError:\n",
        "  print(captured)\n",
        "  raise\n",
        "\n",
        "print(\"🔁 Restarting kernel after installation...\")\n",
        "get_ipython().kernel.do_shutdown(True)"
      ],
      "metadata": {
        "id": "_ds-a3EgRUsb"
      },
      "id": "_ds-a3EgRUsb",
      "execution_count": null,
      "outputs": []
    },
    {
      "cell_type": "code",
      "source": [
        "#@title Import Python packages\n",
        "#@markdown Please execute this cell by pressing the *Play* button on \n",
        "#@markdown the left.\n",
        "\n",
        "%cd '/content/rgn2'\n",
        "\n",
        "import os\n",
        "import sys\n",
        "import subprocess\n",
        "from google.colab import files\n",
        "\n",
        "%reload_ext autoreload\n",
        "%autoreload 2\n",
        "%tensorflow_version 1.x\n",
        "\n",
        "sys.path.append(os.path.join(os.getcwd(), 'aminobert'))\n",
        "from aminobert.prediction import aminobert_predict_sequence\n",
        "from data_processing.aminobert_postprocessing import aminobert_postprocess\n",
        "from ter2pdb import ter2pdb\n",
        "\n",
        "\n",
        "DATA_DIR = 'aminobert_output'\n",
        "%shell mkdir -p aminobert_output\n",
        "\n",
        "DATASET_NAME = '1'\n",
        "PREPEND_M = True\n",
        "AMINOBERT_CHKPT_DIR = 'resources/aminobert_checkpoint/AminoBERT_runs_v2_uniparc_dataset_v2_5-1024_fresh_start_model.ckpt-1100000'\n",
        "RGN_CHKPT_DIR = 'resources/rgn2_runs/15106000'\n",
        "RUN_DIR = 'runs/15106000'"
      ],
      "metadata": {
        "id": "7GBilHivRmgP"
      },
      "id": "7GBilHivRmgP",
      "execution_count": null,
      "outputs": []
    },
    {
      "cell_type": "code",
      "source": [
        "#@markdown ### Enter the amino acid sequence to fold ⬇️\n",
        "seq_id = 'T1071'  #@param {type:\"string\"}\n",
        "sequence = 'MQSLAKLLVIEDDAAIRLNLSVILEFVGEQCEVIESTQIDQINWSAVWGGCILGSLRGQALSEQLIQSLTKANHIPLLVANKQPYSLEEFPNYVGELDFPLNYPQLSDALRHCKEFLGRKGFQVLATARKNTLFRSLVGQSMGIQEVRHLIEQVSTTEANVLILGESGTGKEVVARNIHYHSGRRNGPFVPINCGAIPAELLESELFGHEKGAFTGAITARKGRFELAEGGTLFLDEIGDMPMSMQVKLLRVLQERCFERVGGNSTIKANVRVIAATHRNLEEMIDGQKFREDLYYRLNVFPIEMPALRDRIDDIPLLLQELMTRMEAEGAQPICFTPRAINSMMEHDWPGNVRELANLVERMVILYPNSLVDVNHLPTKYRYSDIPEFQPEPSRFSSVEEQERDVLEGIFAEDFNFEEPQEFVPDIDAPQALPPEGVNLKELLADLEVNLINQALEAQGGVVARAADMLGMRRTTLVEKMRKYNMQR'  #@param {type:\"string\"}\n",
        "\n",
        "MAX_SEQUENCE_LENGTH = 1023\n",
        "\n",
        "# Remove all whitespaces, tabs and end lines; upper-case\n",
        "sequence = sequence.translate(str.maketrans('', '', ' \\n\\t')).upper()\n",
        "aatypes = set('ACDEFGHIKLMNPQRSTVWY')  # 20 standard aatypes\n",
        "if not set(sequence).issubset(aatypes):\n",
        "  raise Exception(f'Input sequence contains non-amino acid letters: {set(sequence) - aatypes}. AlphaFold only supports 20 standard amino acids as inputs.')\n",
        "if len(sequence) > MAX_SEQUENCE_LENGTH:\n",
        "  raise Exception(f'Input sequence is too long: {len(sequence)} amino acids, while the maximum is {MAX_SEQUENCE_LENGTH}. Please use the full AlphaFold system for long sequences.')\n",
        "\n",
        "seq_path = os.path.join(DATA_DIR, f'{seq_id}.fa')\n",
        "ter_path = os.path.join(RUN_DIR, '1', 'outputsTesting', f'{seq_id}.tertiary')\n",
        "output_dir = os.path.join(RUN_DIR, 'output')\n",
        "os.makedirs(output_dir, exist_ok=True)"
      ],
      "metadata": {
        "id": "_5YeBefARz0D"
      },
      "id": "_5YeBefARz0D",
      "execution_count": null,
      "outputs": []
    },
    {
      "cell_type": "code",
      "execution_count": null,
      "id": "d93c3e44",
      "metadata": {
        "id": "d93c3e44"
      },
      "outputs": [],
      "source": [
        "#@title Generate Aminobert Embeddings\n",
        "#@markdown Please execute this cell by pressing the *Play* button on \n",
        "#@markdown the left.\n",
        "\n",
        "aminobert_predict_sequence(seq=sequence, header=seq_id, prepend_m=PREPEND_M,\n",
        "                           checkpoint=AMINOBERT_CHKPT_DIR, data_dir=DATA_DIR)\n",
        "aminobert_postprocess(data_dir=DATA_DIR, dataset_name=DATASET_NAME, prepend_m=PREPEND_M)"
      ]
    },
    {
      "cell_type": "code",
      "source": [
        "#@title Run RGN2\n",
        "#@markdown Please execute this cell by pressing the *Play* button on \n",
        "#@markdown the left.\n",
        "cmd = f\"python rgn/protling.py {os.path.join(RGN_CHKPT_DIR, 'configuration')} -p -e 'weighted_testing' -a -g 0\"\n",
        "rgn_proc = subprocess.run(cmd, stdout=subprocess.PIPE, stderr=subprocess.STDOUT, shell=True)\n",
        "\n",
        "if rgn_proc.returncode != 0:\n",
        "    print(rgn_proc.stdout.decode('UTF-8'))\n",
        "    raise Exception('Prediction failed!')\n",
        "\n",
        "print('Prediction completed!')\n",
        "ter2pdb.predicted_ter2pdb(seq_path=seq_path, ter_path=ter_path,\n",
        "                          output_dir=output_dir, seq_id=seq_id)\n",
        "files.download(os.path.join(output_dir, f'{seq_id}_{ter2pdb.CA_TRACE_FNAME}'))"
      ],
      "metadata": {
        "id": "IJkrRgF3R63Q"
      },
      "id": "IJkrRgF3R63Q",
      "execution_count": null,
      "outputs": []
    },
    {
      "cell_type": "code",
      "source": [
        "#@title Refinement\n",
        "#@markdown Please execute this cell by pressing the *Play* button on \n",
        "#@markdown the left.\n",
        "\n",
        "REFINEMENT_TIMEOUT=420\n",
        "\n",
        "seq_path = os.path.join(DATA_DIR, f'{seq_id}.fa')\n",
        "ter_path = os.path.join(RUN_DIR, '1', 'outputsTesting', f'{seq_id}.tertiary')\n",
        "ter2pdb.run(seq_path=seq_path, ter_path=ter_path,\n",
        "            output_dir=output_dir, timeout=REFINEMENT_TIMEOUT, seq_id=seq_id)\n",
        "\n",
        "print('Refinement completed!')\n",
        "\n",
        "files.download(os.path.join(output_dir,\n",
        "                            f'{seq_id}_{ter2pdb.EMPR_CA_TRACE_FNAME}'))"
      ],
      "metadata": {
        "id": "I0A_TUORSukb"
      },
      "id": "I0A_TUORSukb",
      "execution_count": null,
      "outputs": []
    }
  ],
  "metadata": {
    "kernelspec": {
      "display_name": "Python 3",
      "language": "python",
      "name": "python3"
    },
    "language_info": {
      "codemirror_mode": {
        "name": "ipython",
        "version": 3
      },
      "file_extension": ".py",
      "mimetype": "text/x-python",
      "name": "python",
      "nbconvert_exporter": "python",
      "pygments_lexer": "ipython3",
      "version": "3.6.8"
    },
    "colab": {
      "name": "rgn2_prediction.ipynb",
      "provenance": [],
      "collapsed_sections": []
    },
    "accelerator": "GPU",
    "gpuClass": "standard"
  },
  "nbformat": 4,
  "nbformat_minor": 5
}